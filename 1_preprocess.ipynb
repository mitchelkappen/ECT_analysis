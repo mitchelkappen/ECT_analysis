{
 "cells": [
  {
   "cell_type": "markdown",
   "id": "7c9736a0-873d-46c1-add2-6f805a28d6d0",
   "metadata": {},
   "source": [
    "# PreProcess script"
   ]
  },
  {
   "cell_type": "code",
   "execution_count": 1,
   "id": "d88e0785-81b3-4820-96c5-2b13e80c1700",
   "metadata": {},
   "outputs": [],
   "source": [
    "import glob\n",
    "import os\n",
    "import numpy as np\n",
    "import pandas as pd\n",
    "import json\n",
    "\n",
    "\n",
    "\n",
    "\n",
    "\n",
    "from tqdm import tqdm\n",
    "from pathlib import Path"
   ]
  },
  {
   "cell_type": "markdown",
   "id": "111d0d86-c12c-4157-a16c-3b476a4dbe64",
   "metadata": {},
   "source": [
    "## 1. PASAT"
   ]
  },
  {
   "cell_type": "code",
   "execution_count": 172,
   "id": "b20cbf9b-456b-47b5-8a5b-4bca654bb277",
   "metadata": {},
   "outputs": [
    {
     "name": "stdout",
     "output_type": "stream",
     "text": [
      "donothing\n",
      "data_PASAT_ID_001_Sesh_1_Date_5-2-2021.csv\n",
      "data_PASAT_ID_002_Sesh_1_Date_9-2-2021.csv\n",
      "data_PASAT_ID_003_Sesh_2_Date_8-6-2021.csv\n",
      "data_PASAT_ID_003_Sesh_3_Date_21-6-2021.csv\n",
      "data_PASAT_ID_004_Sesh_3_Date_21-6-2021.csv\n",
      "data_PASAT_ID_004_Sesh_3_Date_5-7-2021.csv\n",
      "data_PASAT_ID_005_Sesh_1_Date_6-5-2021.csv\n",
      "data_PASAT_ID_005_Sesh_2_Date_13-7-2021.csv\n"
     ]
    }
   ],
   "source": [
    "data_dir = Path('Z:\\\\shares\\\\ect_cct_project\\\\Data\\\\PASAT_1')\n",
    "os.chdir(data_dir)\n",
    "\n",
    "files = glob.glob(\"*.csv\", recursive = True) # get all webm's in directory\n",
    "\n",
    "\n",
    "\n",
    "exclude = ['data_12989_3_3-2-2021.csv', # invalid\n",
    "           'data_67867_678_3-2-2021.csv', \n",
    "           'data_999_999_3-2-2021.csv',\n",
    "           'data_PASAT_ID_9999_Sesh_1_Date_5-2-2021.csv',\n",
    "           'data_PASAT_ID_9999_Sesh_1_Date_5-2-2021.csv',\n",
    "           'data_PASAT_ID_999_Sesh_5_Date_4-5-2021.csv'\n",
    "          ]\n",
    "\n",
    "try: # This is really sloppy but the best i could do at the end of the day\n",
    "    del dataset\n",
    "except:\n",
    "    print('donothing')\n",
    "\n",
    "for idx,item in enumerate(files):\n",
    "    if 'incomplete' not in item and 'undefined' not in item: # Incomplete entries are not relevant\n",
    "        if item not in exclude:\n",
    "            print(item)\n",
    "            df = pd.read_csv(item)\n",
    "            \n",
    "            pptID = json.loads(df['responses'][np.where(df['trial_type'] == \"survey-text\")[0][0]]) # Get correct answers to moment and ID Q an turn into key:value dict\n",
    "            pptID[\"Q0\"]\n",
    "            pptID[\"Q1\"]\n",
    "\n",
    "            practiceAcc = np.mean(df['correct'][df['ITI'] == 5000])\n",
    "            block1Acc = np.mean(df['correct'][df['ITI'] == 4000])\n",
    "            block2Acc = np.mean(df['correct'][df['ITI'] == 3000])\n",
    "            block3Acc = np.mean(df['correct'][df['ITI'] == 2000])\n",
    "            \n",
    "            date = item.split(\"Date_\")[1].split(\".csv\")[0]\n",
    "\n",
    "            # assign data of lists.  \n",
    "            data = {'ID': pptID[\"Q1\"], 'Moment': pptID[\"Q0\"], 'Date': date, 'PracticeAcc': practiceAcc, 'Block1Acc': block1Acc, 'Block2Acc': block2Acc, 'Block3Acc': block3Acc}  \n",
    "            df = pd.DataFrame(data, index=[0])  \n",
    "\n",
    "            if 'dataset' not in globals():\n",
    "                dataset = df\n",
    "            else:\n",
    "                dataset = pd.concat([dataset, df], ignore_index=True)\n"
   ]
  },
  {
   "cell_type": "code",
   "execution_count": 173,
   "id": "377b26e0-1e45-4ca1-b20c-e45b8f13d8df",
   "metadata": {},
   "outputs": [],
   "source": [
    "dataset.to_csv('PASATdata.csv')"
   ]
  }
 ],
 "metadata": {
  "kernelspec": {
   "display_name": "Python 3 (ipykernel)",
   "language": "python",
   "name": "python3"
  },
  "language_info": {
   "codemirror_mode": {
    "name": "ipython",
    "version": 3
   },
   "file_extension": ".py",
   "mimetype": "text/x-python",
   "name": "python",
   "nbconvert_exporter": "python",
   "pygments_lexer": "ipython3",
   "version": "3.9.6"
  }
 },
 "nbformat": 4,
 "nbformat_minor": 5
}
